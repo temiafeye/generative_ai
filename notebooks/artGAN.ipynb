{
 "cells": [
  {
   "cell_type": "code",
   "execution_count": null,
   "metadata": {},
   "outputs": [],
   "source": []
  }
 ],
 "metadata": {
  "kernelspec": {
   "display_name": "Python 3.9.13 ('tensorflow')",
   "language": "python",
   "name": "python3"
  },
  "language_info": {
   "name": "python",
   "version": "3.9.13"
  },
  "orig_nbformat": 4,
  "vscode": {
   "interpreter": {
    "hash": "69c236da350f7f9317ca6867dc0e4bdf6b5e32eb0336fcde60db89d7557bff3c"
   }
  }
 },
 "nbformat": 4,
 "nbformat_minor": 2
}
