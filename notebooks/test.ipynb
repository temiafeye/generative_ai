{
 "cells": [
  {
   "cell_type": "code",
   "execution_count": 9,
   "metadata": {},
   "outputs": [
    {
     "name": "stdout",
     "output_type": "stream",
     "text": [
      "  % Total    % Received % Xferd  Average Speed   Time    Time     Time  Current\n",
      "                                 Dload  Upload   Total   Spent    Left  Speed\n",
      "  0 25.4G    0 19.5M    0     0   768k      0  9:38:14  0:00:26  9:37:48  828k  0   593k      0 12:28:43  0:00:05 12:28:38  599k^C\n"
     ]
    },
    {
     "name": "stderr",
     "output_type": "stream",
     "text": [
      "  % Total    % Received % Xferd  Average Speed   Time    Time     Time  Current\n",
      "                                 Dload  Upload   Total   Spent    Left  Speed\n",
      "  0 25.4G    0  9.7M    0     0   783k      0  9:27:28  0:00:12  9:27:16  848k"
     ]
    }
   ],
   "source": [
    "# download large zip file with curl command from terminal and save it to data folder\n",
    "\n",
    "# In[1]:\n",
    "\n",
    "! curl -L -o data/wikiart.zip http://web.fsktm.um.edu.my/~cschan/source/ICIP2017/wikiart.zip\n",
    "\n",
    "\n",
    "\n",
    "# write function to download the wikiart zip file, unzip and add to data folder\n",
    "import os\n",
    "import zipfile\n",
    "\n",
    "def download_unzip_dataset (file_id, path):\n",
    "    save_path = os.path.join(os.getcwd(), 'data')\n",
    "    output = os.path.join(os.getcwd(), 'data', 'wikiart.zip')\n",
    "    if not os.path.exists(save_path):\n",
    "        os.makedirs(save_path)\n",
    "    os.system(' curl -L -o {} {}'.format(path, file_id))\n",
    "    with zipfile.ZipFile(output, 'r') as zip_ref:\n",
    "        zip_ref.extractall(save_path)\n",
    "\n",
    "\n",
    "file_id = 'http://web.fsktm.um.edu.my/~cschan/source/ICIP2017/wikiart.zip'\n",
    "path = 'data/wikiart.zip'\n",
    "\n",
    "download_unzip_dataset(file_id, path)\n"
   ]
  },
  {
   "cell_type": "code",
   "execution_count": 1,
   "metadata": {},
   "outputs": [],
   "source": [
    "\n",
    "raw_data_path = 'data/raw_data'\n",
    "retrieved_data_path = 'data/retrieved_data'\n",
    "resized_data_path = 'data/resized_data'"
   ]
  },
  {
   "cell_type": "code",
   "execution_count": 2,
   "metadata": {},
   "outputs": [],
   "source": []
  },
  {
   "cell_type": "code",
   "execution_count": 9,
   "metadata": {},
   "outputs": [],
   "source": [
    "dirname = os.path.join(os.getcwd(), raw_data_path)"
   ]
  },
  {
   "cell_type": "code",
   "execution_count": 15,
   "metadata": {},
   "outputs": [],
   "source": [
    "#print all folders in dirname\n",
    "\n",
    "def get_files(dirname):\n",
    "\n",
    "    for root, dirs, files in os.walk(dirname):\n",
    "        for name in files:\n",
    "            print(os.path.join(root, name))\n",
    "        for name in dirs: \n",
    "            print(os.path.join(root, name))\n",
    "\n",
    "get_files(dirname)\n",
    "\n"
   ]
  },
  {
   "cell_type": "code",
   "execution_count": 11,
   "metadata": {},
   "outputs": [],
   "source": [
    "for folder in os.walk(dirname): \n",
    "    print(folder)\n",
    "    # for file in os.listdir(os.path.join(dirname, folder)): \n",
    "    #     if file.endswith('.jpg'):\n",
    "    #         print(file)"
   ]
  }
 ],
 "metadata": {
  "kernelspec": {
   "display_name": "Python 3.7.12 ('myenv_x86')",
   "language": "python",
   "name": "python3"
  },
  "language_info": {
   "codemirror_mode": {
    "name": "ipython",
    "version": 3
   },
   "file_extension": ".py",
   "mimetype": "text/x-python",
   "name": "python",
   "nbconvert_exporter": "python",
   "pygments_lexer": "ipython3",
   "version": "3.7.12"
  },
  "orig_nbformat": 4,
  "vscode": {
   "interpreter": {
    "hash": "6f0227be5defa2701a985383679fab21333e5f283ac1b30357bc33083594ed6d"
   }
  }
 },
 "nbformat": 4,
 "nbformat_minor": 2
}
